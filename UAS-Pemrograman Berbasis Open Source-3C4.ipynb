{
 "cells": [
  {
   "cell_type": "code",
   "execution_count": 2,
   "id": "c8ba29cc",
   "metadata": {},
   "outputs": [
    {
     "name": "stdout",
     "output_type": "stream",
     "text": [
      "Panjang Persegi Panjang : 10\n",
      "Lebar Persegi Panjang : 4\n",
      "\n",
      "Hasil dari input tersebut :\n",
      "Keliling :  28.0\n",
      "Luas     :  40.0\n"
     ]
    }
   ],
   "source": [
    "panjang = float(input(\"Panjang Persegi Panjang : \"))\n",
    "lebar = float(input(\"Lebar Persegi Panjang : \"))\n",
    "\n",
    "def hitung(panjang, lebar):\n",
    "    keliling = (2*panjang)+(2*lebar)\n",
    "    luas = (panjang*lebar)\n",
    "    \n",
    "    print(\"\\nHasil dari input tersebut :\")\n",
    "    print(\"Keliling : \", keliling)\n",
    "    print(\"Luas     : \", luas)\n",
    "\n",
    "    \n",
    "hitung(panjang,lebar)"
   ]
  },
  {
   "cell_type": "code",
   "execution_count": 11,
   "id": "a5fb12c7",
   "metadata": {},
   "outputs": [
    {
     "name": "stdout",
     "output_type": "stream",
     "text": [
      "Inputkan Biodata Anda\n",
      "Nama   : Adi\n",
      "Alamat : Kobr\n",
      "NIM    : 202102260\n",
      "\n",
      "\n",
      "Berikut adalah data diri yang telah di input \n",
      "Nama   :  Adi\n",
      "Alamat :  Kobr\n",
      "NIM    :  202102260\n"
     ]
    }
   ],
   "source": [
    "class biodata():\n",
    "    def __init__(self,nama,alamat, nim):\n",
    "        \n",
    "        print(\"Inputkan Biodata Anda\")\n",
    "        \n",
    "    def input(self):\n",
    "        self.nama = input(\"Nama   : \")\n",
    "        self.alamat = input(\"Alamat : \")\n",
    "        self.nim = input(\"NIM    : \")\n",
    "        \n",
    "class datadiri(biodata):\n",
    "    def cetak(self):\n",
    "        print (\"\\n\\nBerikut adalah data diri yang telah di input \")\n",
    "        print (\"Nama   : \", self.nama)\n",
    "        print (\"Alamat : \", self.alamat)\n",
    "        print (\"NIM    : \", self.nim)\n",
    "        \n",
    "data = datadiri(\"nama\",\"alamat\",\"nim\")\n",
    "data.input()\n",
    "data.cetak()"
   ]
  },
  {
   "cell_type": "code",
   "execution_count": 10,
   "id": "dbf0342e",
   "metadata": {},
   "outputs": [
    {
     "name": "stdout",
     "output_type": "stream",
     "text": [
      "1. Tambah\n",
      "2. Kurang\n",
      "3. Kali\n",
      "4. Bagi\n",
      "5. Exit\n",
      "Pilih operasi :3\n",
      "\n",
      "Masukkan Angka Pertama :2\n",
      "\n",
      "Masukkan Angka Kedua   :3\n",
      "2 x 3 = 6\n",
      "1. Tambah\n",
      "2. Kurang\n",
      "3. Kali\n",
      "4. Bagi\n",
      "5. Exit\n",
      "Pilih operasi :5\n"
     ]
    }
   ],
   "source": [
    "class calculator:\n",
    "    def tambah(self, a, b):\n",
    "        return a+b\n",
    "    def kurang(self, a, b):\n",
    "        return a-b\n",
    "    def kali(self, a, b):\n",
    "        return a*b\n",
    "    def bagi(self, a, b):\n",
    "        return a/b\n",
    "    \n",
    "kalkulatorku = calculator()\n",
    "\n",
    "while True:\n",
    "    print(\"1. Tambah\")\n",
    "    print(\"2. Kurang\")\n",
    "    print(\"3. Kali\")\n",
    "    print(\"4. Bagi\")\n",
    "    print(\"5. Exit\")\n",
    "    \n",
    "    ch = int(input(\"Pilih operasi :\"))\n",
    "    \n",
    "    if ch in (1, 2, 3, 4, 5):\n",
    "        if(ch==5):\n",
    "            break\n",
    "            \n",
    "        a = int(input(\"\\nMasukkan Angka Pertama :\"))\n",
    "        b = int(input(\"\\nMasukkan Angka Kedua   :\"))\n",
    "        \n",
    "        if(ch==1):\n",
    "            print(a, \"+\", b, \"=\", kalkulatorku.tambah(a,b))\n",
    "            \n",
    "        elif(ch==2):\n",
    "            print(a, \"-\", b, \"=\", kalkulatorku.kurang(a,b))\n",
    "            \n",
    "        elif(ch==3):\n",
    "            print(a, \"x\", b, \"=\", kalkulatorku.kali(a,b))\n",
    "            \n",
    "        elif(ch==4):\n",
    "            print(a, \":\", b, \"=\", kalkulatorku.bagi(a,b))\n",
    "            \n",
    "    else:\n",
    "        print(\"Invalid Input\")"
   ]
  },
  {
   "cell_type": "code",
   "execution_count": null,
   "id": "1492c6d5",
   "metadata": {},
   "outputs": [],
   "source": []
  }
 ],
 "metadata": {
  "kernelspec": {
   "display_name": "Python 3",
   "language": "python",
   "name": "python3"
  },
  "language_info": {
   "codemirror_mode": {
    "name": "ipython",
    "version": 3
   },
   "file_extension": ".py",
   "mimetype": "text/x-python",
   "name": "python",
   "nbconvert_exporter": "python",
   "pygments_lexer": "ipython3",
   "version": "3.8.8"
  }
 },
 "nbformat": 4,
 "nbformat_minor": 5
}
